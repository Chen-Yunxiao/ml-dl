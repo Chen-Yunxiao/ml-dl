{
 "cells": [
  {
   "cell_type": "markdown",
   "id": "b982c45d",
   "metadata": {},
   "source": [
    "<h1>上机内容2</h1>\n",
    "\n",
    "<br>\n",
    "\n",
    "练习机器学习模型的Web部署，通过Flask部署学习的预测模型，预测第三个月的销售额，本地部署测试通过后部署到PythonAnywhere云端。"
   ]
  },
  {
   "cell_type": "markdown",
   "id": "df486d24",
   "metadata": {},
   "source": [
    "## 训练模型并保存"
   ]
  },
  {
   "cell_type": "code",
   "execution_count": 2,
   "id": "790b744f",
   "metadata": {},
   "outputs": [
    {
     "name": "stdout",
     "output_type": "stream",
     "text": [
      "[143.3072588]\n"
     ]
    },
    {
     "name": "stderr",
     "output_type": "stream",
     "text": [
      "C:\\Users\\cyx85\\AppData\\Local\\Programs\\Python\\Python311\\Lib\\site-packages\\sklearn\\base.py:439: UserWarning: X does not have valid feature names, but LinearRegression was fitted with feature names\n",
      "  warnings.warn(\n"
     ]
    }
   ],
   "source": [
    "import numpy as np\n",
    "import matplotlib.pyplot as plt\n",
    "import pandas as pd\n",
    "import pickle\n",
    "\n",
    "dataset = pd.read_csv('sales.csv')\n",
    "\n",
    "dataset['rate'].fillna(0, inplace=True)\n",
    "\n",
    "dataset['sales_in_first_month'].fillna(dataset['sales_in_first_month'].mean(), inplace=True)\n",
    "X = dataset.iloc[:, :3]\n",
    "\n",
    "def convert_to_int(word):\n",
    "    word_dict = {'one':1, 'two':2, 'three':3, 'four':4, 'five':5, 'six':6, 'seven':7, 'eight':8,\n",
    "                'nine':9, 'ten':10, 'eleven':11, 'twelve':12, 'zero':0, 0: 0}\n",
    "    return word_dict[word]\n",
    "X['rate'] = X['rate'].apply(lambda x : convert_to_int(x))\n",
    "y = dataset.iloc[:, -1]\n",
    "\n",
    "from sklearn.linear_model import LinearRegression\n",
    "regressor = LinearRegression()\n",
    "\n",
    "regressor.fit(X, y)\n",
    "\n",
    "# 通过pickle的方式将模型持久化保存到硬盘中\n",
    "# 请在这里输入代码 1\n",
    "\n",
    "with open('data.pickle', 'wb') as f:\n",
    "    pickle.dump(regressor.get_params(), f)\n",
    "\n",
    "# 通过pickle的方式将硬盘中的模型加载进来进行测试\n",
    "# 请在这里输入代码 2\n",
    "with open('data.pickle', 'rb') as f:\n",
    "    model = pickle.load(f) \n",
    "\n",
    "print(model.predict([[4, 300, 500]]))"
   ]
  },
  {
   "cell_type": "markdown",
   "id": "882c5332",
   "metadata": {},
   "source": [
    "## 修改app.py加载模型\n",
    "- 模型训练好之后，在app.py中加载模型，前端html和API已经构建好。\n",
    "- 可根据自己喜好修改前端风格"
   ]
  },
  {
   "cell_type": "markdown",
   "id": "d1fa72cc",
   "metadata": {},
   "source": [
    "## 安装环境，运行测试\n",
    "- 安装Flask，运行\n",
    "- python app.py\n",
    "进行本地部署\n",
    "http://127.0.1:5000/"
   ]
  },
  {
   "cell_type": "markdown",
   "id": "be4fbd9b",
   "metadata": {},
   "source": [
    "## PythonAnywhere 云部署\n",
    "- 将项目文件上传到PythonAnywhere部署\n",
    "- 参考上课PPT：4-机器学习Web应用"
   ]
  },
  {
   "cell_type": "markdown",
   "id": "dce9bb1c",
   "metadata": {},
   "source": [
    "恭喜你已经完成了本次上机全部内容！"
   ]
  },
  {
   "cell_type": "code",
   "execution_count": null,
   "id": "e1498a54",
   "metadata": {},
   "outputs": [],
   "source": []
  }
 ],
 "metadata": {
  "kernelspec": {
   "display_name": "Python 3 (ipykernel)",
   "language": "python",
   "name": "python3"
  },
  "language_info": {
   "codemirror_mode": {
    "name": "ipython",
    "version": 3
   },
   "file_extension": ".py",
   "mimetype": "text/x-python",
   "name": "python",
   "nbconvert_exporter": "python",
   "pygments_lexer": "ipython3",
   "version": "3.11.3"
  },
  "toc": {
   "base_numbering": 1,
   "nav_menu": {},
   "number_sections": true,
   "sideBar": true,
   "skip_h1_title": false,
   "title_cell": "Table of Contents",
   "title_sidebar": "Contents",
   "toc_cell": false,
   "toc_position": {},
   "toc_section_display": true,
   "toc_window_display": false
  }
 },
 "nbformat": 4,
 "nbformat_minor": 5
}
